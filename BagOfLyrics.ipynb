{
 "cells": [
  {
   "cell_type": "code",
   "execution_count": 24,
   "metadata": {
    "collapsed": true
   },
   "outputs": [],
   "source": [
    "import os\n",
    "import re\n",
    "import collections"
   ]
  },
  {
   "cell_type": "code",
   "execution_count": 25,
   "metadata": {
    "collapsed": true
   },
   "outputs": [],
   "source": [
    "def openFile(path):\n",
    "    f = open(path, \"r\")\n",
    "    return f.read() "
   ]
  },
  {
   "cell_type": "code",
   "execution_count": 26,
   "metadata": {
    "collapsed": true
   },
   "outputs": [],
   "source": [
    "PATH = \"/Users/alexchan/Documents/college/susa/LyricNet/train\""
   ]
  },
  {
   "cell_type": "code",
   "execution_count": 49,
   "metadata": {
    "collapsed": false
   },
   "outputs": [],
   "source": [
    "def convertForDict(word):\n",
    "    pattern = re.compile('[\\W_]+')\n",
    "    word = pattern.sub('', word)\n",
    "    return word.lower()\n",
    "\n",
    "def prepare_sequence(seq, to_ix):\n",
    "    idxs = [to_ix[w] for w in seq]\n",
    "    tensor = torch.LongTensor(idxs)\n",
    "    return autograd.Variable(tensor)\n",
    "\n",
    "word_to_ix = {}\n",
    "labels = ['kendrick', 'swift']\n",
    "common = ['', 'i', 'the', 'a','me','and','you','we','it']\n",
    "bowDict = {}\n",
    "\n",
    "for artist in labels:\n",
    "    bowDict[artist] = {}\n",
    "    for song in os.listdir(PATH + \"/\" + artist):\n",
    "        lyrics = openFile(PATH + \"/\" + artist + \"/\" + song).split(\" \")\n",
    "        lyrics = [convertForDict(word) for word in lyrics]\n",
    "        songDict = collections.Counter(lyrics)\n",
    "        for w in common:\n",
    "            del songDict[w]\n",
    "        bowDict[artist][song] = songDict"
   ]
  },
  {
   "cell_type": "code",
   "execution_count": 50,
   "metadata": {
    "collapsed": false
   },
   "outputs": [
    {
     "name": "stdout",
     "output_type": "stream",
     "text": [
      "kendrick\n",
      "Song humble.txt : [('up', 62), ('hol', 60), ('bitch', 32), ('down', 26), ('lil', 25)]\n",
      "Song dna.txt : [('dna', 27), ('got', 25), ('my', 25), ('inside', 18), ('in', 14)]\n",
      "Song lust.txt : [('to', 16), ('up', 16), ('in', 15), ('your', 14), ('on', 11)]\n",
      "Song element.txt : [('out', 15), ('my', 14), ('for', 14), ('on', 12), ('yall', 11)]\n",
      "Song pride.txt : [('wasnt', 14), ('care', 12), ('there', 12), ('to', 10), ('in', 10)]\n",
      "Song loyalty.txt : [('loyalty', 31), ('is', 20), ('im', 16), ('to', 13), ('all', 13)]\n",
      "Song love.txt : [('love', 31), ('with', 17), ('be', 16), ('just', 15), ('wanna', 15)]\n",
      "\n",
      "\n",
      "swift\n",
      "Song wildest_dreams.txt : [('in', 13), ('youll', 10), ('ha', 9), ('wildest', 9), ('dreams', 9)]\n",
      "Song style.txt : [('go', 16), ('that', 14), ('out', 11), ('got', 10), ('style', 10)]\n",
      "Song shake_it_off.txt : [('shake', 78), ('off', 44), ('gonna', 21), ('fake', 15), ('hate', 15)]\n",
      "Song blank_space.txt : [('its', 11), ('im', 9), ('got', 9), ('tell', 9), ('love', 8)]\n",
      "Song bad_blood.txt : [('now', 22), ('got', 21), ('weve', 20), ('baby', 16), ('blood', 16)]\n",
      "\n",
      "\n"
     ]
    }
   ],
   "source": [
    "for artist in labels:\n",
    "    print(artist)\n",
    "    for song in bowDict[artist]:\n",
    "        bow = bowDict[artist][song]\n",
    "        print(\"Song \" + song + \" : \" + str(bow.most_common(5)))\n",
    "    print(\"\\n\")"
   ]
  },
  {
   "cell_type": "code",
   "execution_count": null,
   "metadata": {
    "collapsed": true
   },
   "outputs": [],
   "source": []
  }
 ],
 "metadata": {
  "anaconda-cloud": {},
  "kernelspec": {
   "display_name": "Python [Root]",
   "language": "python",
   "name": "Python [Root]"
  },
  "language_info": {
   "codemirror_mode": {
    "name": "ipython",
    "version": 3
   },
   "file_extension": ".py",
   "mimetype": "text/x-python",
   "name": "python",
   "nbconvert_exporter": "python",
   "pygments_lexer": "ipython3",
   "version": "3.5.2"
  }
 },
 "nbformat": 4,
 "nbformat_minor": 0
}
